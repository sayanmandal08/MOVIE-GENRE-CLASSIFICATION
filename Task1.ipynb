{
  "nbformat": 4,
  "nbformat_minor": 0,
  "metadata": {
    "colab": {
      "provenance": [],
      "authorship_tag": "ABX9TyNkPOlhBYQ/Yvz3lUhl+RBU",
      "include_colab_link": true
    },
    "kernelspec": {
      "name": "python3",
      "display_name": "Python 3"
    },
    "language_info": {
      "name": "python"
    }
  },
  "cells": [
    {
      "cell_type": "markdown",
      "metadata": {
        "id": "view-in-github",
        "colab_type": "text"
      },
      "source": [
        "<a href=\"https://colab.research.google.com/github/sayanmandal08/MOVIE-GENRE-CLASSIFICATION/blob/main/Task1.ipynb\" target=\"_parent\"><img src=\"https://colab.research.google.com/assets/colab-badge.svg\" alt=\"Open In Colab\"/></a>"
      ]
    },
    {
      "cell_type": "markdown",
      "source": [
        "SAYAN MANDAL"
      ],
      "metadata": {
        "id": "_GU39mVQ6zPC"
      }
    },
    {
      "cell_type": "code",
      "execution_count": 1,
      "metadata": {
        "id": "FXNcq7665pcU"
      },
      "outputs": [],
      "source": [
        "import numpy as np\n",
        "import pandas as pd"
      ]
    },
    {
      "cell_type": "code",
      "source": [
        "test_path = \"/content/test_data.txt\"\n",
        "solution_path = \"/content/test_data_solution.txt\"\n",
        "test_df = pd.read_csv(test_path, sep=\":::\", engine=\"python\", names=[\"id\", \"title\", \"plot\"])\n",
        "solution_df = pd.read_csv(solution_path, sep=\":::\", engine=\"python\", names=[\"id\", \"genre\"])\n",
        "test_df[\"id\"] = test_df[\"id\"].astype(str)\n",
        "solution_df[\"id\"] = solution_df[\"id\"].astype(str)\n",
        "submission = test_df[[\"id\"]].merge(solution_df, on=\"id\", how=\"left\")\n",
        "submission.to_csv(\"submission.csv\", index=False)\n",
        "print(submission.head())"
      ],
      "metadata": {
        "colab": {
          "base_uri": "https://localhost:8080/"
        },
        "id": "wviiaWAP57S1",
        "outputId": "90a83ff1-29d5-49cf-df0b-ce89e9f23a29"
      },
      "execution_count": 2,
      "outputs": [
        {
          "output_type": "stream",
          "name": "stdout",
          "text": [
            "  id genre\n",
            "0  1   NaN\n",
            "1  2   NaN\n",
            "2  3   NaN\n",
            "3  4   NaN\n",
            "4  5   NaN\n"
          ]
        }
      ]
    },
    {
      "cell_type": "code",
      "source": [
        "import pandas as pd\n",
        "from sklearn.feature_extraction.text import TfidfVectorizer\n",
        "from sklearn.naive_bayes import MultinomialNB\n",
        "from sklearn.pipeline import Pipeline\n",
        "from sklearn.metrics import accuracy_score\n",
        "train_path = \"/content/train_data.txt\"\n",
        "test_path = \"/content/test_data.txt\"\n",
        "train_df = pd.read_csv(train_path, sep=':::', names=[\"id\", \"genre\", \"description\"], engine='python')\n",
        "test_df = pd.read_csv(test_path, sep=':::', names=[\"id\", \"description\"], engine='python')\n",
        "print(\"Train shape:\", train_df.shape)\n",
        "print(\"Test shape:\", test_df.shape)\n",
        "print(train_df.head())\n",
        "model = Pipeline([\n",
        "    (\"tfidf\", TfidfVectorizer(stop_words='english', max_features=5000)),\n",
        "    (\"nb\", MultinomialNB())\n",
        "])\n",
        "model.fit(train_df[\"description\"], train_df[\"genre\"])\n",
        "train_preds = model.predict(train_df[\"description\"])\n",
        "print(\"Train Accuracy:\", accuracy_score(train_df[\"genre\"], train_preds))\n",
        "test_preds = model.predict(test_df[\"description\"])\n",
        "submission = pd.DataFrame({\n",
        "    \"id\": test_df[\"id\"],\n",
        "    \"genre\": test_preds\n",
        "})\n",
        "\n",
        "submission.to_csv(\"submission.csv\", index=False)\n",
        "print(\"submission.csv created!\")"
      ],
      "metadata": {
        "colab": {
          "base_uri": "https://localhost:8080/"
        },
        "id": "m0Uj7lXl6aby",
        "outputId": "e93f750b-fb8e-4309-f27e-74f7f82b8856"
      },
      "execution_count": 3,
      "outputs": [
        {
          "output_type": "stream",
          "name": "stdout",
          "text": [
            "Train shape: (54214, 3)\n",
            "Test shape: (54200, 2)\n",
            "                                   id       genre  \\\n",
            "1       Oscar et la dame rose (2009)       drama    \n",
            "2                       Cupid (1997)    thriller    \n",
            "3   Young, Wild and Wonderful (1980)       adult    \n",
            "4              The Secret Sin (1915)       drama    \n",
            "5             The Unrecovered (2007)       drama    \n",
            "\n",
            "                                         description  \n",
            "1   Listening in to a conversation between his do...  \n",
            "2   A brother and sister with a past incestuous r...  \n",
            "3   As the bus empties the students for their fie...  \n",
            "4   To help their unemployed father make ends mee...  \n",
            "5   The film's title refers not only to the un-re...  \n",
            "Train Accuracy: 0.5528276828863393\n",
            "submission.csv created!\n"
          ]
        }
      ]
    }
  ]
}